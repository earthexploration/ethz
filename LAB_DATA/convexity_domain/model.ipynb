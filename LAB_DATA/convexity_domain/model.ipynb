{
 "cells": [
  {
   "cell_type": "code",
   "execution_count": 91,
   "id": "2bebd1ac",
   "metadata": {},
   "outputs": [],
   "source": [
    "import tensorflow as tf\n",
    "import numpy as np\n",
    "import pandas as pd\n",
    "import matplotlib.pyplot as plt\n",
    "from sklearn.preprocessing import StandardScaler\n",
    "from keras import callbacks\n",
    "from keras.models import Sequential\n",
    "from keras.layers import Dense, Input\n",
    "import os\n",
    "from pickle import dump"
   ]
  },
  {
   "cell_type": "code",
   "execution_count": 95,
   "id": "66afa840",
   "metadata": {
    "lines_to_next_cell": 1
   },
   "outputs": [],
   "source": [
    "n_test = 40000\n",
    "k = 100\n",
    "good_data = True\n",
    "gseed = 6\n",
    "degree = 4\n",
    "\n",
    "current_dir = \"./\"  # Assuming current directory\n",
    "dir = \"/\"\n",
    "if os.name == \"nt\":\n",
    "    current_dir = \".\\\\\"\n",
    "    dir = \"\\\\\""
   ]
  },
  {
   "cell_type": "code",
   "execution_count": 4,
   "id": "a2e43803",
   "metadata": {},
   "outputs": [],
   "source": [
    "\"\"\" ------------- LOADING DATA ----------------------------\"\"\"\n",
    "\n",
    "if good_data:\n",
    "    X = np.load(\"X_convex_{}.npy\".format(degree))\n",
    "    Y = np.load(\"Y_convex_{}.npy\".format(degree))\n",
    "else :\n",
    "    X = np.random.randint(0, 100, size=(n_test * 2, 22))\n",
    "    Y = np.random.randint(0, 2, size=(n_test * 2))"
   ]
  },
  {
   "cell_type": "code",
   "execution_count": 82,
   "id": "17b4b08f",
   "metadata": {},
   "outputs": [
    {
     "name": "stdout",
     "output_type": "stream",
     "text": [
      "[[-0.36253993  0.44963708  0.00426963 ...  0.33788247  0.15353752\n",
      "   0.82190983]\n",
      " [-0.28683201  0.27524375 -0.0458306  ...  0.16623031  0.07772546\n",
      "   0.4007279 ]\n",
      " [-0.24897805  0.18804708 -0.07088072 ...  0.08040423  0.03981943\n",
      "   0.19013693]\n",
      " ...\n",
      " [ 0.75021886 -0.09230356  1.3025546  ...  0.39050221 -0.27654227\n",
      "  -0.78019156]\n",
      " [-0.33564175  0.55021909 -0.36057596 ... -1.14012798 -0.72144134\n",
      "   0.01700181]\n",
      " [-0.27338292  0.32553475 -0.2282534  ... -0.57277492 -0.35976397\n",
      "  -0.00172612]]\n"
     ]
    }
   ],
   "source": [
    "\"\"\"------------------NORMALIZING DATA-------------------------\"\"\"\n",
    "\n",
    "X_train = X[:n_test,:22]\n",
    "X_test = X[n_test:,:22]\n",
    "\n",
    "Y_train = Y[:n_test]\n",
    "Y_test = Y[n_test:]\n",
    "\n",
    "X_scaler = StandardScaler()\n",
    "X_train = X_scaler.fit_transform(X_train)\n",
    "X_test = X_scaler.transform(X_test)\n"
   ]
  },
  {
   "cell_type": "code",
   "execution_count": 83,
   "id": "45c0720b",
   "metadata": {},
   "outputs": [
    {
     "data": {
      "text/html": [
       "<pre style=\"white-space:pre;overflow-x:auto;line-height:normal;font-family:Menlo,'DejaVu Sans Mono',consolas,'Courier New',monospace\"><span style=\"font-weight: bold\">Model: \"sequential_7\"</span>\n",
       "</pre>\n"
      ],
      "text/plain": [
       "\u001b[1mModel: \"sequential_7\"\u001b[0m\n"
      ]
     },
     "metadata": {},
     "output_type": "display_data"
    },
    {
     "data": {
      "text/html": [
       "<pre style=\"white-space:pre;overflow-x:auto;line-height:normal;font-family:Menlo,'DejaVu Sans Mono',consolas,'Courier New',monospace\">┏━━━━━━━━━━━━━━━━━━━━━━━━━━━━━━━━━┳━━━━━━━━━━━━━━━━━━━━━━━━┳━━━━━━━━━━━━━━━┓\n",
       "┃<span style=\"font-weight: bold\"> Layer (type)                    </span>┃<span style=\"font-weight: bold\"> Output Shape           </span>┃<span style=\"font-weight: bold\">       Param # </span>┃\n",
       "┡━━━━━━━━━━━━━━━━━━━━━━━━━━━━━━━━━╇━━━━━━━━━━━━━━━━━━━━━━━━╇━━━━━━━━━━━━━━━┩\n",
       "│ dense_15 (<span style=\"color: #0087ff; text-decoration-color: #0087ff\">Dense</span>)                │ (<span style=\"color: #00d7ff; text-decoration-color: #00d7ff\">None</span>, <span style=\"color: #00af00; text-decoration-color: #00af00\">200</span>)            │         <span style=\"color: #00af00; text-decoration-color: #00af00\">4,600</span> │\n",
       "├─────────────────────────────────┼────────────────────────┼───────────────┤\n",
       "│ dense_16 (<span style=\"color: #0087ff; text-decoration-color: #0087ff\">Dense</span>)                │ (<span style=\"color: #00d7ff; text-decoration-color: #00d7ff\">None</span>, <span style=\"color: #00af00; text-decoration-color: #00af00\">200</span>)            │        <span style=\"color: #00af00; text-decoration-color: #00af00\">40,200</span> │\n",
       "├─────────────────────────────────┼────────────────────────┼───────────────┤\n",
       "│ dense_17 (<span style=\"color: #0087ff; text-decoration-color: #0087ff\">Dense</span>)                │ (<span style=\"color: #00d7ff; text-decoration-color: #00d7ff\">None</span>, <span style=\"color: #00af00; text-decoration-color: #00af00\">1</span>)              │           <span style=\"color: #00af00; text-decoration-color: #00af00\">201</span> │\n",
       "└─────────────────────────────────┴────────────────────────┴───────────────┘\n",
       "</pre>\n"
      ],
      "text/plain": [
       "┏━━━━━━━━━━━━━━━━━━━━━━━━━━━━━━━━━┳━━━━━━━━━━━━━━━━━━━━━━━━┳━━━━━━━━━━━━━━━┓\n",
       "┃\u001b[1m \u001b[0m\u001b[1mLayer (type)                   \u001b[0m\u001b[1m \u001b[0m┃\u001b[1m \u001b[0m\u001b[1mOutput Shape          \u001b[0m\u001b[1m \u001b[0m┃\u001b[1m \u001b[0m\u001b[1m      Param #\u001b[0m\u001b[1m \u001b[0m┃\n",
       "┡━━━━━━━━━━━━━━━━━━━━━━━━━━━━━━━━━╇━━━━━━━━━━━━━━━━━━━━━━━━╇━━━━━━━━━━━━━━━┩\n",
       "│ dense_15 (\u001b[38;5;33mDense\u001b[0m)                │ (\u001b[38;5;45mNone\u001b[0m, \u001b[38;5;34m200\u001b[0m)            │         \u001b[38;5;34m4,600\u001b[0m │\n",
       "├─────────────────────────────────┼────────────────────────┼───────────────┤\n",
       "│ dense_16 (\u001b[38;5;33mDense\u001b[0m)                │ (\u001b[38;5;45mNone\u001b[0m, \u001b[38;5;34m200\u001b[0m)            │        \u001b[38;5;34m40,200\u001b[0m │\n",
       "├─────────────────────────────────┼────────────────────────┼───────────────┤\n",
       "│ dense_17 (\u001b[38;5;33mDense\u001b[0m)                │ (\u001b[38;5;45mNone\u001b[0m, \u001b[38;5;34m1\u001b[0m)              │           \u001b[38;5;34m201\u001b[0m │\n",
       "└─────────────────────────────────┴────────────────────────┴───────────────┘\n"
      ]
     },
     "metadata": {},
     "output_type": "display_data"
    },
    {
     "data": {
      "text/html": [
       "<pre style=\"white-space:pre;overflow-x:auto;line-height:normal;font-family:Menlo,'DejaVu Sans Mono',consolas,'Courier New',monospace\"><span style=\"font-weight: bold\"> Total params: </span><span style=\"color: #00af00; text-decoration-color: #00af00\">45,001</span> (175.79 KB)\n",
       "</pre>\n"
      ],
      "text/plain": [
       "\u001b[1m Total params: \u001b[0m\u001b[38;5;34m45,001\u001b[0m (175.79 KB)\n"
      ]
     },
     "metadata": {},
     "output_type": "display_data"
    },
    {
     "data": {
      "text/html": [
       "<pre style=\"white-space:pre;overflow-x:auto;line-height:normal;font-family:Menlo,'DejaVu Sans Mono',consolas,'Courier New',monospace\"><span style=\"font-weight: bold\"> Trainable params: </span><span style=\"color: #00af00; text-decoration-color: #00af00\">45,001</span> (175.79 KB)\n",
       "</pre>\n"
      ],
      "text/plain": [
       "\u001b[1m Trainable params: \u001b[0m\u001b[38;5;34m45,001\u001b[0m (175.79 KB)\n"
      ]
     },
     "metadata": {},
     "output_type": "display_data"
    },
    {
     "data": {
      "text/html": [
       "<pre style=\"white-space:pre;overflow-x:auto;line-height:normal;font-family:Menlo,'DejaVu Sans Mono',consolas,'Courier New',monospace\"><span style=\"font-weight: bold\"> Non-trainable params: </span><span style=\"color: #00af00; text-decoration-color: #00af00\">0</span> (0.00 B)\n",
       "</pre>\n"
      ],
      "text/plain": [
       "\u001b[1m Non-trainable params: \u001b[0m\u001b[38;5;34m0\u001b[0m (0.00 B)\n"
      ]
     },
     "metadata": {},
     "output_type": "display_data"
    }
   ],
   "source": [
    "\"\"\"---------------------DEFINING MODEL-------------------------\"\"\"\n",
    "\n",
    "def custom_activation(x):\n",
    "    return 0.5 * (1 + tf.math.sign(x)) * (x + 1/100) +  0.5 * (1 - tf.math.sign(x)) * tf.math.exp(tf.math.minimum(0.0,x)) / 100\n",
    "\n",
    "def custom2_activation(x):\n",
    "    return tf.where(x < 0, tf.exp(tf.math.minimum(0.0, x) * k) / k, x + 1/k)\n",
    "\n",
    "model = Sequential([])\n",
    "model.add(Input(shape=(22,)))\n",
    "model.add(Dense(200, activation=custom_activation, kernel_initializer=tf.keras.initializers.RandomUniform(minval=-7.0, maxval=7.0, seed=gseed)))\n",
    "model.add(Dense(200, activation=custom_activation))\n",
    "model.add(Dense(1, activation=\"sigmoid\"))\n",
    "\n",
    "model.compile(optimizer='adam',\n",
    "              loss='binary_crossentropy',\n",
    "              metrics=[\"accuracy\"])\n",
    "\n",
    "model.summary()"
   ]
  },
  {
   "cell_type": "code",
   "execution_count": 84,
   "id": "d699f76f",
   "metadata": {},
   "outputs": [
    {
     "name": "stdout",
     "output_type": "stream",
     "text": [
      "Epoch 1/40\n",
      "\u001b[1m2500/2500\u001b[0m \u001b[32m━━━━━━━━━━━━━━━━━━━━\u001b[0m\u001b[37m\u001b[0m \u001b[1m5s\u001b[0m 2ms/step - accuracy: 0.6689 - loss: 0.8665 - learning_rate: 0.0010\n",
      "Epoch 2/40\n",
      "\u001b[1m2500/2500\u001b[0m \u001b[32m━━━━━━━━━━━━━━━━━━━━\u001b[0m\u001b[37m\u001b[0m \u001b[1m4s\u001b[0m 2ms/step - accuracy: 0.8575 - loss: 0.3452 - learning_rate: 0.0010\n",
      "Epoch 3/40\n",
      "\u001b[1m2500/2500\u001b[0m \u001b[32m━━━━━━━━━━━━━━━━━━━━\u001b[0m\u001b[37m\u001b[0m \u001b[1m4s\u001b[0m 2ms/step - accuracy: 0.9029 - loss: 0.2334 - learning_rate: 0.0010\n",
      "Epoch 4/40\n",
      "\u001b[1m2500/2500\u001b[0m \u001b[32m━━━━━━━━━━━━━━━━━━━━\u001b[0m\u001b[37m\u001b[0m \u001b[1m4s\u001b[0m 2ms/step - accuracy: 0.9204 - loss: 0.1905 - learning_rate: 0.0010\n",
      "Epoch 5/40\n",
      "\u001b[1m2500/2500\u001b[0m \u001b[32m━━━━━━━━━━━━━━━━━━━━\u001b[0m\u001b[37m\u001b[0m \u001b[1m4s\u001b[0m 2ms/step - accuracy: 0.9342 - loss: 0.1599 - learning_rate: 0.0010\n",
      "Epoch 6/40\n",
      "\u001b[1m2500/2500\u001b[0m \u001b[32m━━━━━━━━━━━━━━━━━━━━\u001b[0m\u001b[37m\u001b[0m \u001b[1m4s\u001b[0m 2ms/step - accuracy: 0.9456 - loss: 0.1343 - learning_rate: 0.0010\n",
      "Epoch 7/40\n",
      "\u001b[1m2500/2500\u001b[0m \u001b[32m━━━━━━━━━━━━━━━━━━━━\u001b[0m\u001b[37m\u001b[0m \u001b[1m4s\u001b[0m 2ms/step - accuracy: 0.9501 - loss: 0.1249 - learning_rate: 0.0010\n",
      "Epoch 8/40\n",
      "\u001b[1m2500/2500\u001b[0m \u001b[32m━━━━━━━━━━━━━━━━━━━━\u001b[0m\u001b[37m\u001b[0m \u001b[1m4s\u001b[0m 2ms/step - accuracy: 0.9547 - loss: 0.1135 - learning_rate: 0.0010\n",
      "Epoch 9/40\n",
      "\u001b[1m2500/2500\u001b[0m \u001b[32m━━━━━━━━━━━━━━━━━━━━\u001b[0m\u001b[37m\u001b[0m \u001b[1m4s\u001b[0m 2ms/step - accuracy: 0.9593 - loss: 0.1010 - learning_rate: 0.0010\n",
      "Epoch 10/40\n",
      "\u001b[1m2500/2500\u001b[0m \u001b[32m━━━━━━━━━━━━━━━━━━━━\u001b[0m\u001b[37m\u001b[0m \u001b[1m4s\u001b[0m 1ms/step - accuracy: 0.9615 - loss: 0.0958 - learning_rate: 0.0010\n",
      "Epoch 11/40\n",
      "\u001b[1m2500/2500\u001b[0m \u001b[32m━━━━━━━━━━━━━━━━━━━━\u001b[0m\u001b[37m\u001b[0m \u001b[1m4s\u001b[0m 1ms/step - accuracy: 0.9669 - loss: 0.0850 - learning_rate: 0.0010\n",
      "Epoch 12/40\n",
      "\u001b[1m2500/2500\u001b[0m \u001b[32m━━━━━━━━━━━━━━━━━━━━\u001b[0m\u001b[37m\u001b[0m \u001b[1m4s\u001b[0m 1ms/step - accuracy: 0.9699 - loss: 0.0775 - learning_rate: 0.0010\n",
      "Epoch 13/40\n",
      "\u001b[1m2500/2500\u001b[0m \u001b[32m━━━━━━━━━━━━━━━━━━━━\u001b[0m\u001b[37m\u001b[0m \u001b[1m4s\u001b[0m 1ms/step - accuracy: 0.9712 - loss: 0.0729 - learning_rate: 0.0010\n",
      "Epoch 14/40\n",
      "\u001b[1m2500/2500\u001b[0m \u001b[32m━━━━━━━━━━━━━━━━━━━━\u001b[0m\u001b[37m\u001b[0m \u001b[1m4s\u001b[0m 1ms/step - accuracy: 0.9735 - loss: 0.0674 - learning_rate: 0.0010\n",
      "Epoch 15/40\n",
      "\u001b[1m2500/2500\u001b[0m \u001b[32m━━━━━━━━━━━━━━━━━━━━\u001b[0m\u001b[37m\u001b[0m \u001b[1m4s\u001b[0m 1ms/step - accuracy: 0.9774 - loss: 0.0609 - learning_rate: 0.0010\n",
      "Epoch 16/40\n",
      "\u001b[1m2500/2500\u001b[0m \u001b[32m━━━━━━━━━━━━━━━━━━━━\u001b[0m\u001b[37m\u001b[0m \u001b[1m4s\u001b[0m 1ms/step - accuracy: 0.9766 - loss: 0.0606 - learning_rate: 0.0010\n",
      "Epoch 17/40\n",
      "\u001b[1m2500/2500\u001b[0m \u001b[32m━━━━━━━━━━━━━━━━━━━━\u001b[0m\u001b[37m\u001b[0m \u001b[1m4s\u001b[0m 2ms/step - accuracy: 0.9811 - loss: 0.0526 - learning_rate: 0.0010\n",
      "Epoch 18/40\n",
      "\u001b[1m2500/2500\u001b[0m \u001b[32m━━━━━━━━━━━━━━━━━━━━\u001b[0m\u001b[37m\u001b[0m \u001b[1m4s\u001b[0m 1ms/step - accuracy: 0.9846 - loss: 0.0434 - learning_rate: 0.0010\n",
      "Epoch 19/40\n",
      "\u001b[1m2500/2500\u001b[0m \u001b[32m━━━━━━━━━━━━━━━━━━━━\u001b[0m\u001b[37m\u001b[0m \u001b[1m4s\u001b[0m 1ms/step - accuracy: 0.9849 - loss: 0.0424 - learning_rate: 0.0010\n",
      "Epoch 20/40\n",
      "\u001b[1m2500/2500\u001b[0m \u001b[32m━━━━━━━━━━━━━━━━━━━━\u001b[0m\u001b[37m\u001b[0m \u001b[1m4s\u001b[0m 2ms/step - accuracy: 0.9832 - loss: 0.0429 - learning_rate: 0.0010\n",
      "Epoch 21/40\n",
      "\u001b[1m2500/2500\u001b[0m \u001b[32m━━━━━━━━━━━━━━━━━━━━\u001b[0m\u001b[37m\u001b[0m \u001b[1m5s\u001b[0m 1ms/step - accuracy: 0.9847 - loss: 0.0381 - learning_rate: 0.0010\n",
      "Epoch 22/40\n",
      "\u001b[1m2500/2500\u001b[0m \u001b[32m━━━━━━━━━━━━━━━━━━━━\u001b[0m\u001b[37m\u001b[0m \u001b[1m4s\u001b[0m 1ms/step - accuracy: 0.9870 - loss: 0.0355 - learning_rate: 0.0010\n",
      "Epoch 23/40\n",
      "\u001b[1m2500/2500\u001b[0m \u001b[32m━━━━━━━━━━━━━━━━━━━━\u001b[0m\u001b[37m\u001b[0m \u001b[1m4s\u001b[0m 1ms/step - accuracy: 0.9881 - loss: 0.0331 - learning_rate: 0.0010\n",
      "Epoch 24/40\n",
      "\u001b[1m2500/2500\u001b[0m \u001b[32m━━━━━━━━━━━━━━━━━━━━\u001b[0m\u001b[37m\u001b[0m \u001b[1m4s\u001b[0m 2ms/step - accuracy: 0.9892 - loss: 0.0293 - learning_rate: 0.0010\n",
      "Epoch 25/40\n",
      "\u001b[1m2500/2500\u001b[0m \u001b[32m━━━━━━━━━━━━━━━━━━━━\u001b[0m\u001b[37m\u001b[0m \u001b[1m4s\u001b[0m 2ms/step - accuracy: 0.9880 - loss: 0.0315 - learning_rate: 0.0010\n",
      "Epoch 26/40\n",
      "\u001b[1m2500/2500\u001b[0m \u001b[32m━━━━━━━━━━━━━━━━━━━━\u001b[0m\u001b[37m\u001b[0m \u001b[1m6s\u001b[0m 2ms/step - accuracy: 0.9887 - loss: 0.0304 - learning_rate: 0.0010\n",
      "Epoch 27/40\n",
      "\u001b[1m2500/2500\u001b[0m \u001b[32m━━━━━━━━━━━━━━━━━━━━\u001b[0m\u001b[37m\u001b[0m \u001b[1m5s\u001b[0m 2ms/step - accuracy: 0.9916 - loss: 0.0258 - learning_rate: 0.0010\n",
      "Epoch 28/40\n",
      "\u001b[1m2500/2500\u001b[0m \u001b[32m━━━━━━━━━━━━━━━━━━━━\u001b[0m\u001b[37m\u001b[0m \u001b[1m9s\u001b[0m 2ms/step - accuracy: 0.9888 - loss: 0.0293 - learning_rate: 0.0010\n",
      "Epoch 29/40\n",
      "\u001b[1m2500/2500\u001b[0m \u001b[32m━━━━━━━━━━━━━━━━━━━━\u001b[0m\u001b[37m\u001b[0m \u001b[1m4s\u001b[0m 2ms/step - accuracy: 0.9921 - loss: 0.0252 - learning_rate: 0.0010\n",
      "Epoch 30/40\n",
      "\u001b[1m2500/2500\u001b[0m \u001b[32m━━━━━━━━━━━━━━━━━━━━\u001b[0m\u001b[37m\u001b[0m \u001b[1m4s\u001b[0m 2ms/step - accuracy: 0.9924 - loss: 0.0235 - learning_rate: 0.0010\n",
      "Epoch 31/40\n",
      "\u001b[1m2500/2500\u001b[0m \u001b[32m━━━━━━━━━━━━━━━━━━━━\u001b[0m\u001b[37m\u001b[0m \u001b[1m5s\u001b[0m 2ms/step - accuracy: 0.9962 - loss: 0.0141 - learning_rate: 1.0000e-04\n",
      "Epoch 32/40\n",
      "\u001b[1m2500/2500\u001b[0m \u001b[32m━━━━━━━━━━━━━━━━━━━━\u001b[0m\u001b[37m\u001b[0m \u001b[1m5s\u001b[0m 2ms/step - accuracy: 0.9994 - loss: 0.0058 - learning_rate: 1.0000e-04\n",
      "Epoch 33/40\n",
      "\u001b[1m2500/2500\u001b[0m \u001b[32m━━━━━━━━━━━━━━━━━━━━\u001b[0m\u001b[37m\u001b[0m \u001b[1m4s\u001b[0m 2ms/step - accuracy: 0.9997 - loss: 0.0037 - learning_rate: 1.0000e-04\n",
      "Epoch 34/40\n",
      "\u001b[1m2500/2500\u001b[0m \u001b[32m━━━━━━━━━━━━━━━━━━━━\u001b[0m\u001b[37m\u001b[0m \u001b[1m4s\u001b[0m 2ms/step - accuracy: 0.9999 - loss: 0.0024 - learning_rate: 1.0000e-04\n",
      "Epoch 35/40\n",
      "\u001b[1m2500/2500\u001b[0m \u001b[32m━━━━━━━━━━━━━━━━━━━━\u001b[0m\u001b[37m\u001b[0m \u001b[1m4s\u001b[0m 1ms/step - accuracy: 0.9999 - loss: 0.0019 - learning_rate: 1.0000e-04\n",
      "Epoch 36/40\n",
      "\u001b[1m2500/2500\u001b[0m \u001b[32m━━━━━━━━━━━━━━━━━━━━\u001b[0m\u001b[37m\u001b[0m \u001b[1m4s\u001b[0m 1ms/step - accuracy: 1.0000 - loss: 0.0013 - learning_rate: 1.0000e-05\n",
      "Epoch 37/40\n",
      "\u001b[1m2500/2500\u001b[0m \u001b[32m━━━━━━━━━━━━━━━━━━━━\u001b[0m\u001b[37m\u001b[0m \u001b[1m4s\u001b[0m 1ms/step - accuracy: 1.0000 - loss: 0.0013 - learning_rate: 1.0000e-05\n",
      "Epoch 38/40\n",
      "\u001b[1m2500/2500\u001b[0m \u001b[32m━━━━━━━━━━━━━━━━━━━━\u001b[0m\u001b[37m\u001b[0m \u001b[1m4s\u001b[0m 1ms/step - accuracy: 1.0000 - loss: 0.0012 - learning_rate: 1.0000e-05\n",
      "Epoch 39/40\n",
      "\u001b[1m2500/2500\u001b[0m \u001b[32m━━━━━━━━━━━━━━━━━━━━\u001b[0m\u001b[37m\u001b[0m \u001b[1m4s\u001b[0m 1ms/step - accuracy: 1.0000 - loss: 0.0012 - learning_rate: 1.0000e-05\n",
      "Epoch 40/40\n",
      "\u001b[1m2500/2500\u001b[0m \u001b[32m━━━━━━━━━━━━━━━━━━━━\u001b[0m\u001b[37m\u001b[0m \u001b[1m4s\u001b[0m 2ms/step - accuracy: 1.0000 - loss: 0.0011 - learning_rate: 1.0000e-05\n"
     ]
    }
   ],
   "source": [
    "\"\"\"------------- MODEL DEFINITION-------------------\"\"\"\n",
    "\n",
    "def learning_rate(epoch):\n",
    "    if epoch < 30 :\n",
    "        return 1e-3\n",
    "    elif epoch < 35 :\n",
    "        return 1e-4\n",
    "    else :\n",
    "        return 1e-5\n",
    "    \n",
    "learning_rate_cb = callbacks.LearningRateScheduler(learning_rate)\n",
    "\n",
    "history = model.fit(X_train, Y_train, epochs=40, batch_size=16, callbacks=[learning_rate_cb])"
   ]
  },
  {
   "cell_type": "code",
   "execution_count": 99,
   "id": "d6f548ad",
   "metadata": {},
   "outputs": [
    {
     "data": {
      "image/png": "[encoded data removed]",
      "text/plain": [
       "<Figure size 640x480 with 1 Axes>"
      ]
     },
     "metadata": {},
     "output_type": "display_data"
    },
    {
     "name": "stdout",
     "output_type": "stream",
     "text": [
      "[[-0.21874441 -0.3004924  -0.06052062 ...  0.03150353  0.19450451\n",
      "   0.20424998]\n",
      " [-0.16520296 -0.10458835 -0.3023184  ...  0.24650638 -0.08367071\n",
      "  -0.01703574]\n",
      " [-0.34051448  0.01582644 -0.16843452 ... -0.15041392 -0.02759597\n",
      "   0.13949157]\n",
      " ...\n",
      " [-0.20125064  0.13759962  0.12410777 ... -0.2412704  -0.5254336\n",
      "  -0.21943294]\n",
      " [-0.15397753 -0.2838807  -0.09421566 ... -0.06692879 -0.14594169\n",
      "   0.02883932]\n",
      " [ 0.13136482 -0.60362214 -0.14947681 ... -0.1880011  -0.34116712\n",
      "   0.03604002]]\n",
      "\u001b[1m354/354\u001b[0m \u001b[32m━━━━━━━━━━━━━━━━━━━━\u001b[0m\u001b[37m\u001b[0m \u001b[1m1s\u001b[0m 1ms/step - accuracy: 0.9456 - loss: 0.2887\n",
      "Test accuracy: 0.9474243521690369\n"
     ]
    }
   ],
   "source": [
    "\"\"\"------------------ EVALUATING MODEL ------------------\"\"\"\n",
    "fig = plt.figure()\n",
    "ax = fig.add_subplot()\n",
    "ax.plot(history.history['accuracy'][0:], label='Loss vs epochs')\n",
    "ax.legend()\n",
    "plt.show()\n",
    "\n",
    "loss, accuracy = model.evaluate(X_test, Y_test)\n",
    "\n",
    "print(\"Test accuracy:\", accuracy)"
   ]
  },
  {
   "cell_type": "code",
   "execution_count": 97,
   "id": "bcb44386",
   "metadata": {},
   "outputs": [],
   "source": [
    "\"\"\"------------------- SAVING MODEL AND SCALER --------------------\"\"\"\n",
    "number = 0\n",
    "folderpath = current_dir + \"NN\" + dir\n",
    "filename_model = folderpath + f\"model_{number}.keras\"\n",
    "while os.path.exists(filename_model):\n",
    "    number = number + 1\n",
    "    filename_model = folderpath + f\"model_{number}.keras\"\n",
    "\n",
    "filename_weights = folderpath + f\"model_weights_{number}.weights.h5\"\n",
    "filename_scaler = folderpath + f'scaler_{number}.pkl'\n",
    "\n",
    "\n",
    "model.save(filename_model)\n",
    "model.save_weights(filename_weights)\n",
    "dump(X_scaler, open(filename_scaler, 'wb'))"
   ]
  },
  {
   "cell_type": "code",
   "execution_count": 90,
   "id": "f89dd073",
   "metadata": {},
   "outputs": [
    {
     "name": "stdout",
     "output_type": "stream",
     "text": [
      "\u001b[1m1/1\u001b[0m \u001b[32m━━━━━━━━━━━━━━━━━━━━\u001b[0m\u001b[37m\u001b[0m \u001b[1m0s\u001b[0m 24ms/step\n"
     ]
    },
    {
     "data": {
      "text/plain": [
       "array([[0.]], dtype=float32)"
      ]
     },
     "execution_count": 90,
     "metadata": {},
     "output_type": "execute_result"
    }
   ],
   "source": [
    "coeff = np.array([[0.94023082,6.97173563,-15.99134392,    8.91103779,    0.82695289,\n",
    "   25.02515934,  -28.04553872,  -25.50761266,    9.46243293,   14.55959669,\n",
    " -172.7153104,   159.77415504,  -38.62615735,   22.49232082,  130.25269078,\n",
    " -183.92550277,   10.60521502,   55.00973079,   11.18036212,   23.97881451,\n",
    "   61.74909799,   -4.73687212]])\n",
    "\n",
    "M = np.array([[9, 18, 27, 18, 9, 18, 18, 18, 9, 18, 18, 18, 18, 9, 0, 0, 18, 18, 18, 18, 18, 9]])\n",
    "\n",
    "model.predict(X_scaler.transform(coeff))"
   ]
  }
 ],
 "metadata": {
  "jupytext": {
   "cell_metadata_filter": "-all",
   "formats": "ipynb,py",
   "main_language": "python"
  },
  "kernelspec": {
   "display_name": "Python 3",
   "language": "python",
   "name": "python3"
  },
  "language_info": {
   "codemirror_mode": {
    "name": "ipython",
    "version": 3
   },
   "file_extension": ".py",
   "mimetype": "text/x-python",
   "name": "python",
   "nbconvert_exporter": "python",
   "pygments_lexer": "ipython3",
   "version": "3.9.13"
  }
 },
 "nbformat": 4,
 "nbformat_minor": 5
}
