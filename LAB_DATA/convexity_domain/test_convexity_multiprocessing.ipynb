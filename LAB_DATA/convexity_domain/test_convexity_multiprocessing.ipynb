{
 "cells": [
  {
   "cell_type": "code",
   "execution_count": 2,
   "id": "90dde06b",
   "metadata": {},
   "outputs": [],
   "source": [
    "import numpy as np\n",
    "import pandas as pd\n",
    "import sklearn \n",
    "import sklearn.preprocessing\n",
    "import matplotlib.pyplot as plt\n",
    "from mpl_toolkits.mplot3d import axes3d\n",
    "import multiprocessing"
   ]
  },
  {
   "cell_type": "code",
   "execution_count": 3,
   "id": "1e4d86f9",
   "metadata": {},
   "outputs": [],
   "source": [
    "degree = 4\n",
    "bbox=(-3,3)"
   ]
  },
  {
   "cell_type": "code",
   "execution_count": null,
   "id": "183944f4",
   "metadata": {
    "lines_to_next_cell": 1
   },
   "outputs": [],
   "source": [
    "\"\"\"----------------------------------------------DEF POLYN-----------------------------------------------------------------------------\"\"\""
   ]
  },
  {
   "cell_type": "code",
   "execution_count": 4,
   "id": "d9976935",
   "metadata": {
    "lines_to_next_cell": 1
   },
   "outputs": [],
   "source": [
    "def get_param_polyN(degree):\n",
    "    data = np.zeros((2,5))\n",
    "    polyN = sklearn.preprocessing.PolynomialFeatures((degree, degree), include_bias=False)\n",
    "    X = polyN.fit_transform(data)\n",
    "    powers = polyN.powers_\n",
    "    nmon_abq = len(powers)\n",
    "\n",
    "    selected_indices = []\n",
    "    for i in range(nmon_abq):\n",
    "        k,l,m,n,p = powers[i]\n",
    "        if ((m==n) and (n==p)) or ((m%2==0) and (n%2==0) and (p%2==0)):\n",
    "            selected_indices.append(i)\n",
    "\n",
    "    powers = powers[selected_indices].T\n",
    "    X = X[:,selected_indices]\n",
    "\n",
    "    sorted_indices = np.lexsort((powers[1], powers[2], powers[3], powers[4]))\n",
    "    powers = powers.T[sorted_indices]\n",
    "    X = X[:,sorted_indices]\n",
    "\n",
    "    ndata, nmon = X.shape\n",
    "\n",
    "    return(powers, nmon, nmon_abq)"
   ]
  },
  {
   "cell_type": "code",
   "execution_count": 5,
   "id": "cb677c63",
   "metadata": {
    "lines_to_next_cell": 1
   },
   "outputs": [],
   "source": [
    "powers, nmon, nmon_abq = get_param_polyN(degree)"
   ]
  },
  {
   "cell_type": "code",
   "execution_count": 6,
   "id": "dacf6976",
   "metadata": {
    "lines_to_next_cell": 1
   },
   "outputs": [],
   "source": [
    "def dev(S):\n",
    "    if S.ndim==1:\n",
    "        S = np.expand_dims(S, axis=0)\n",
    "    D = S.copy()\n",
    "    trace_dev = S[:,0] + S[:,1] + S[:,2]\n",
    "    D[:,0] = S[:,0] - (1/3) * trace_dev\n",
    "    D[:,1] = S[:,1] - (1/3) * trace_dev\n",
    "    D[:,2] = S[:,2] - (1/3) * trace_dev\n",
    "    return(D)"
   ]
  },
  {
   "cell_type": "code",
   "execution_count": 7,
   "id": "e98f7649",
   "metadata": {
    "lines_to_next_cell": 1
   },
   "outputs": [],
   "source": [
    "def polyN(S, coeff):\n",
    "    if S.ndim==1:\n",
    "        S = np.expand_dims(S, axis=0)\n",
    "    D = dev(S)\n",
    "    X = D[:,[0, 1, 3, 4, 5]]\n",
    "    res = np.zeros(len(X))\n",
    "    for i in range(nmon) :\n",
    "        p = powers[i]\n",
    "        res = res + coeff[i] * np.prod(X ** p, axis=1)\n",
    "    return(res)"
   ]
  },
  {
   "cell_type": "code",
   "execution_count": 8,
   "id": "22cb708a",
   "metadata": {},
   "outputs": [],
   "source": [
    "X_coeff = np.load(\"X_convex_{}.npy\".format(degree))\n",
    "Y_coeff = np.load(\"Y_convex_{}.npy\".format(degree))"
   ]
  },
  {
   "cell_type": "code",
   "execution_count": 9,
   "id": "345969c4",
   "metadata": {},
   "outputs": [],
   "source": [
    "n_samples = len(X_coeff)"
   ]
  },
  {
   "cell_type": "code",
   "execution_count": 10,
   "id": "ad0e1add",
   "metadata": {
    "lines_to_next_cell": 1
   },
   "outputs": [],
   "source": [
    "j_max = (n_samples - 1) // 3 + 1\n",
    "k_max = 3"
   ]
  },
  {
   "cell_type": "markdown",
   "id": "3bbc6c74",
   "metadata": {},
   "source": [
    "fig, ax = plt.subplots(j_max, k_max,subplot_kw={'projection':'3d'})\n",
    "ax = np.atleast_2d(ax)"
   ]
  },
  {
   "cell_type": "code",
   "execution_count": 11,
   "id": "35285f21",
   "metadata": {},
   "outputs": [],
   "source": [
    "def plot_subplot(i):\n",
    "\n",
    "    fig, ax = plt.subplots(subplot_kw={'projection':'3d'})\n",
    "    \n",
    "    coeff = X_coeff[i]\n",
    "\n",
    "    def f(S):\n",
    "        return polyN(S, coeff)\n",
    "    \n",
    "    f_plane = lambda x, y, z : f(np.array([x, y, 0, z, 0, 0]))\n",
    "    f_plane = np.vectorize(f_plane)\n",
    "\n",
    "    xmin, xmax, ymin, ymax, zmin, zmax = bbox*3\n",
    "    A = np.linspace(xmin, xmax, 50) # resolution of the contour\n",
    "    B = np.linspace(xmin, xmax, 15) # number of slices\n",
    "    A1,A2 = np.meshgrid(A,A) # grid on which the contour is plotted\n",
    "\n",
    "    print(\"Début du plot sur XY\")\n",
    "    for z in B: # plot contours in the XY plane\n",
    "        X,Y = A1,A2\n",
    "        Z = f_plane(X,Y,z) - 1\n",
    "        cset = ax.contour(X, Y, Z+z, [z], zdir='z')\n",
    "        # [z] defines the only level to plot for this contour for this value of z\n",
    "    print(\"Fin du plot sur XY\")\n",
    "    print(\"Début du plot sur XZ\")\n",
    "    for y in B: # plot contours in the XZ plane\n",
    "        X,Z = A1,A2\n",
    "        Y = f_plane(X,y,Z) - 1\n",
    "        cset = ax.contour(X, Y+y, Z, [y], zdir='y')\n",
    "\n",
    "    print(\"Fin du plot sur XZ\")\n",
    "    print(\"Début du plot sur YZ\")\n",
    "    for x in B: # plot contours in the YZ plane\n",
    "        Y,Z = A1,A2\n",
    "        X = f_plane(x,Y,Z) - 1\n",
    "        cset = ax.contour(X+x, Y, Z, [x], zdir='x')\n",
    "    print(\"Fin du plot sur YZ\")\n",
    "    # must set plot limits because the contour will likely extend\n",
    "    # way beyond the displayed level.  Otherwise matplotlib extends the plot limits\n",
    "    # to encompass all values in the contour.\n",
    "    ax.set_zlim3d(zmin,zmax)\n",
    "    ax.set_xlim3d(xmin,xmax)\n",
    "    ax.set_ylim3d(ymin,ymax)\n",
    "\n",
    "    val = Y_coeff[i]\n",
    "    if val: \n",
    "        ax.set_title(\"CONVEX\")\n",
    "    else:\n",
    "        ax.set_title(\"NOT CONVEX\")\n",
    "    \n",
    "    plt.show()"
   ]
  },
  {
   "cell_type": "code",
   "execution_count": 12,
   "id": "971aa869",
   "metadata": {},
   "outputs": [],
   "source": [
    "if __name__ == \"__main__\":\n",
    "\n",
    "    # Create a pool of processes\n",
    "    pool = multiprocessing.Pool()\n",
    "\n",
    "    # Map the plotting function to the range of samples\n",
    "    results = pool.map(plot_subplot, range(n_samples))\n",
    "    # Close the pool to free up resources\n",
    "    pool.close()\n",
    "    pool.join()\n",
    "        \n"
   ]
  }
 ],
 "metadata": {
  "jupytext": {
   "cell_metadata_filter": "-all",
   "formats": "ipynb,py",
   "main_language": "python"
  },
  "kernelspec": {
   "display_name": "Python 3",
   "language": "python",
   "name": "python3"
  },
  "language_info": {
   "codemirror_mode": {
    "name": "ipython",
    "version": 3
   },
   "file_extension": ".py",
   "mimetype": "text/x-python",
   "name": "python",
   "nbconvert_exporter": "python",
   "pygments_lexer": "ipython3",
   "version": "3.9.13"
  }
 },
 "nbformat": 4,
 "nbformat_minor": 5
}
