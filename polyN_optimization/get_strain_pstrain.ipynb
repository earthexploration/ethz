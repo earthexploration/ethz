{
 "cells": [
  {
   "cell_type": "code",
   "execution_count": 1,
   "metadata": {},
   "outputs": [],
   "source": [
    "import os\n",
    "import pandas as pd\n",
    "import numpy as np"
   ]
  },
  {
   "cell_type": "code",
   "execution_count": 2,
   "metadata": {},
   "outputs": [],
   "source": [
    "current_dir = \"./\"  # Assuming current directory\n",
    "dir = \"/\"\n",
    "if os.name == \"nt\":\n",
    "    current_dir = \".\\\\\"\n",
    "    dir = \"\\\\\""
   ]
  },
  {
   "cell_type": "code",
   "execution_count": 3,
   "metadata": {},
   "outputs": [],
   "source": [
    "material = \"DP780\""
   ]
  },
  {
   "cell_type": "code",
   "execution_count": 4,
   "metadata": {},
   "outputs": [
    {
     "name": "stderr",
     "output_type": "stream",
     "text": [
      "C:\\Users\\cnober\\AppData\\Local\\Temp\\ipykernel_13984\\1274100992.py:27: FutureWarning: The behavior of DataFrame concatenation with empty or all-NA entries is deprecated. In a future version, this will no longer exclude empty or all-NA columns when determining the result dtypes. To retain the old behavior, exclude the relevant entries before the concat operation.\n",
      "  df_out = pd.concat([df_out, df[[\"PlasticStrain\", \"PlasticStress\", \"YoungModulus\"]]])\n"
     ]
    }
   ],
   "source": [
    "\"\"\"--------------------------------------------EXTRACTING DATA TO CALIBRATE PLASTIC RULE AND YOUND MODULUS------------------------------------------------------------\"\"\"\n",
    "\n",
    "n_ut_00_mat = {\"DP780\" : 3, \"DP600\" : 3, \"AA7020-T6\" : 2}\n",
    "n_ut_00 = n_ut_00_mat[material]\n",
    "df_out = pd.DataFrame(columns = [\"PlasticStrain\", \"PlasticStress\", \"YoungModulus\"])\n",
    "ymod = 0\n",
    "\n",
    "for i in range(1, n_ut_00 + 1):\n",
    "\n",
    "    filename_in = \"UT_00_{}.csv\".format(i)\n",
    "    foldername = current_dir + \"{}_results\".format(material) + dir + \"DATA\" + dir\n",
    "\n",
    "    filepath = foldername + filename_in\n",
    "    \n",
    "    df = pd.read_csv(filepath, index_col=False)\n",
    "\n",
    "    ymod = ymod + df[\" Young's Modulus [MPa]\"][0]\n",
    "    df = df[df[\"PlasticStrain_longi\"] > 0.002]\n",
    "\n",
    "    df[\"PlasticStrain\"] = df[\"PlasticStrain_longi\"] - df[\"PlasticStrain_longi\"].iloc[0]\n",
    "    df[\"PlasticStress\"] = df[\"PlasticStress[MPa]\"]\n",
    "    df[\"YoungModulus\"] = 0\n",
    "\n",
    "    df_out = pd.concat([df_out, df[[\"PlasticStrain\", \"PlasticStress\", \"YoungModulus\"]]])\n",
    "\n",
    "df_out.iloc[0, df_out.columns.get_loc('YoungModulus')] = ymod / n_ut_00\n",
    "filename_out = foldername + \"UT_plasticlaw.csv\"\n",
    "df_out.to_csv(filename_out, index=False)"
   ]
  }
 ],
 "metadata": {
  "kernelspec": {
   "display_name": "Python 3",
   "language": "python",
   "name": "python3"
  },
  "language_info": {
   "codemirror_mode": {
    "name": "ipython",
    "version": 3
   },
   "file_extension": ".py",
   "mimetype": "text/x-python",
   "name": "python",
   "nbconvert_exporter": "python",
   "pygments_lexer": "ipython3",
   "version": "3.9.13"
  }
 },
 "nbformat": 4,
 "nbformat_minor": 2
}
